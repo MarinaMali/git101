{
  "cells": [
    {
      "cell_type": "markdown",
      "metadata": {
        "id": "view-in-github",
        "colab_type": "text"
      },
      "source": [
        "<a href=\"https://colab.research.google.com/github/MarinaMali/git101/blob/main/Autoencoder.ipynb\" target=\"_parent\"><img src=\"https://colab.research.google.com/assets/colab-badge.svg\" alt=\"Open In Colab\"/></a>"
      ]
    },
    {
      "cell_type": "markdown",
      "metadata": {
        "id": "2RFFS3nb2HUV"
      },
      "source": [
        "# Autoencoder - 01418496 (หมู่เรียน 200)"
      ]
    },
    {
      "cell_type": "code",
      "execution_count": 1,
      "metadata": {
        "colab": {
          "base_uri": "https://localhost:8080/",
          "height": 36
        },
        "id": "Dp00gzR5kuTH",
        "outputId": "00d2abeb-5430-4601-b748-e084b0f1d4a3"
      },
      "outputs": [
        {
          "output_type": "execute_result",
          "data": {
            "text/plain": [
              "'2.17.1'"
            ],
            "application/vnd.google.colaboratory.intrinsic+json": {
              "type": "string"
            }
          },
          "metadata": {},
          "execution_count": 1
        }
      ],
      "source": [
        "import tensorflow as tf\n",
        "import matplotlib.pyplot as plt\n",
        "import kagglehub\n",
        "import shutil\n",
        "import os\n",
        "tf.__version__"
      ]
    },
    {
      "cell_type": "code",
      "source": [
        "import numpy as np\n",
        "from PIL import Image"
      ],
      "metadata": {
        "id": "TG3I8YDq9JtE"
      },
      "execution_count": 11,
      "outputs": []
    },
    {
      "cell_type": "markdown",
      "metadata": {
        "id": "3359yCF52HUb"
      },
      "source": [
        "### Setting to execute on Processor (GPU or CPU)"
      ]
    },
    {
      "cell_type": "code",
      "execution_count": 2,
      "metadata": {
        "colab": {
          "base_uri": "https://localhost:8080/"
        },
        "id": "uvRC4lHb2HUc",
        "outputId": "16e73517-a2cd-47b4-b8f7-12d6f992d66d"
      },
      "outputs": [
        {
          "output_type": "stream",
          "name": "stdout",
          "text": [
            "Execute on CPU\n"
          ]
        }
      ],
      "source": [
        "gpus = tf.config.list_physical_devices(\"GPU\")\n",
        "if len(gpus) > 0:\n",
        "    tf.config.experimental.set_memory_growth(gpus[0], True)\n",
        "    print(\"Execute on GPU\")\n",
        "else:\n",
        "    print(\"Execute on CPU\")"
      ]
    },
    {
      "cell_type": "markdown",
      "metadata": {
        "id": "wbv2zUQD2HUd"
      },
      "source": [
        "### Download Dataset"
      ]
    },
    {
      "cell_type": "code",
      "execution_count": 3,
      "metadata": {
        "colab": {
          "base_uri": "https://localhost:8080/"
        },
        "id": "0uy-9T6t2HUe",
        "outputId": "83a53725-5741-46de-f457-d68cafe1562f"
      },
      "outputs": [
        {
          "output_type": "stream",
          "name": "stdout",
          "text": [
            "Downloading from https://www.kaggle.com/api/v1/datasets/download/tongpython/cat-and-dog?dataset_version_number=1...\n"
          ]
        },
        {
          "output_type": "stream",
          "name": "stderr",
          "text": [
            "100%|██████████| 218M/218M [00:01<00:00, 160MB/s]"
          ]
        },
        {
          "output_type": "stream",
          "name": "stdout",
          "text": [
            "Extracting files...\n"
          ]
        },
        {
          "output_type": "stream",
          "name": "stderr",
          "text": [
            "\n"
          ]
        },
        {
          "output_type": "stream",
          "name": "stdout",
          "text": [
            "Path to dataset files: /root/.cache/kagglehub/datasets/tongpython/cat-and-dog/versions/1\n",
            "Download Dataset Complete\n"
          ]
        }
      ],
      "source": [
        "# Download the dataset folder in latest version\n",
        "if not \"dataset\" in os.listdir(\".\"):\n",
        "    path = kagglehub.dataset_download(\"tongpython/cat-and-dog/version/1\")\n",
        "    print(\"Path to dataset files:\", path)\n",
        "    shutil.move(path, \"./dataset\")\n",
        "    print(\"Download Dataset Complete\")\n",
        "else:\n",
        "    print(\"Download Dataset Already\")"
      ]
    },
    {
      "cell_type": "markdown",
      "source": [
        "## Prepossing"
      ],
      "metadata": {
        "id": "VIG8d9m3-Ssg"
      }
    },
    {
      "cell_type": "code",
      "source": [
        "dataset_path = \"./dataset\"\n",
        "for dirpath, dirnames, filenames in os.walk(dataset_path):\n",
        "    print(f\"Path: {dirpath}, Subdirectories: {dirnames}, Files: {len(filenames)}\")"
      ],
      "metadata": {
        "colab": {
          "base_uri": "https://localhost:8080/"
        },
        "id": "EXlnsZQK2IpQ",
        "outputId": "292bddb8-aa4d-4030-d42d-297f88be5488"
      },
      "execution_count": 5,
      "outputs": [
        {
          "output_type": "stream",
          "name": "stdout",
          "text": [
            "Path: ./dataset, Subdirectories: ['test_set', 'training_set'], Files: 0\n",
            "Path: ./dataset/test_set, Subdirectories: ['test_set'], Files: 0\n",
            "Path: ./dataset/test_set/test_set, Subdirectories: ['cats', 'dogs'], Files: 0\n",
            "Path: ./dataset/test_set/test_set/cats, Subdirectories: [], Files: 1012\n",
            "Path: ./dataset/test_set/test_set/dogs, Subdirectories: [], Files: 1013\n",
            "Path: ./dataset/training_set, Subdirectories: ['training_set'], Files: 0\n",
            "Path: ./dataset/training_set/training_set, Subdirectories: ['cats', 'dogs'], Files: 0\n",
            "Path: ./dataset/training_set/training_set/cats, Subdirectories: [], Files: 4001\n",
            "Path: ./dataset/training_set/training_set/dogs, Subdirectories: [], Files: 4006\n"
          ]
        }
      ]
    },
    {
      "cell_type": "code",
      "source": [
        "def preprocess(imgs):\n",
        "    imgs = imgs.astype(\"float32\") / 255.0  # Normalize pixel values to [0, 1]\n",
        "    imgs = np.pad(imgs, ((0, 0), (2, 2), (2, 2), (0, 0)), constant_values=0.0)\n",
        "    imgs = np.expand_dims(imgs, -1)\n",
        "    return imgs\n",
        "\n",
        "def to_image(img):\n",
        "    img = np.squeeze(img)\n",
        "    return Image.fromarray(np.uint8(img * 255))"
      ],
      "metadata": {
        "id": "tpGg1qbZ9Gxc"
      },
      "execution_count": 14,
      "outputs": []
    },
    {
      "cell_type": "code",
      "source": [
        "def dataset_to_numpy_and_preprocess(dataset):\n",
        "    images, labels = [], []\n",
        "    for img_batch, label_batch in dataset:\n",
        "        images.append(img_batch.numpy())\n",
        "        labels.append(label_batch.numpy())\n",
        "    imgs = np.concatenate(images)\n",
        "    lbls = np.concatenate(labels)\n",
        "    return preprocess(imgs), lbls"
      ],
      "metadata": {
        "id": "7timVFCA9WHU"
      },
      "execution_count": 15,
      "outputs": []
    },
    {
      "cell_type": "code",
      "source": [
        "train_dir = \"./dataset/training_set/training_set\"\n",
        "test_dir = \"./dataset/test_set/test_set\""
      ],
      "metadata": {
        "id": "82c55B4957qs"
      },
      "execution_count": 16,
      "outputs": []
    },
    {
      "cell_type": "code",
      "source": [
        "train_dataset = tf.keras.preprocessing.image_dataset_from_directory(\n",
        "    train_dir,\n",
        "    image_size=(150, 150),  # Resize images\n",
        "    batch_size=32,\n",
        ")\n",
        "\n",
        "test_dataset = tf.keras.preprocessing.image_dataset_from_directory(\n",
        "    test_dir,\n",
        "    image_size=(150, 150),\n",
        "    batch_size=32,\n",
        ")\n",
        "\n",
        "X_train, y_train = dataset_to_numpy_and_preprocess(train_dataset)\n",
        "X_test, y_test = dataset_to_numpy_and_preprocess(test_dataset)"
      ],
      "metadata": {
        "colab": {
          "base_uri": "https://localhost:8080/"
        },
        "id": "z6hs_wsd6RgT",
        "outputId": "0525e1a6-347d-4311-8992-09b39f4a40ac"
      },
      "execution_count": 17,
      "outputs": [
        {
          "output_type": "stream",
          "name": "stdout",
          "text": [
            "Found 8005 files belonging to 2 classes.\n",
            "Found 2023 files belonging to 2 classes.\n"
          ]
        }
      ]
    },
    {
      "cell_type": "code",
      "source": [
        "print(\"X_train shape:\", X_train.shape)\n",
        "print(\"y_train shape:\", y_train.shape)\n",
        "print(\"X_test shape:\", X_test.shape)\n",
        "print(\"y_test shape:\", y_test.shape)"
      ],
      "metadata": {
        "colab": {
          "base_uri": "https://localhost:8080/"
        },
        "id": "RsNkXu-_-ANl",
        "outputId": "65699d20-aa04-4683-d52b-c77eb366ced5"
      },
      "execution_count": 18,
      "outputs": [
        {
          "output_type": "stream",
          "name": "stdout",
          "text": [
            "X_train shape: (8005, 154, 154, 3, 1)\n",
            "y_train shape: (8005,)\n",
            "X_test shape: (2023, 154, 154, 3, 1)\n",
            "y_test shape: (2023,)\n"
          ]
        }
      ]
    },
    {
      "cell_type": "code",
      "source": [
        "img = to_image(X_train[0])\n",
        "img.show()"
      ],
      "metadata": {
        "id": "akMsFIjo-OIU"
      },
      "execution_count": 19,
      "outputs": []
    }
  ],
  "metadata": {
    "colab": {
      "provenance": [],
      "include_colab_link": true
    },
    "kernelspec": {
      "display_name": "GenAI_Env",
      "language": "python",
      "name": "python3"
    },
    "language_info": {
      "codemirror_mode": {
        "name": "ipython",
        "version": 3
      },
      "file_extension": ".py",
      "mimetype": "text/x-python",
      "name": "python",
      "nbconvert_exporter": "python",
      "pygments_lexer": "ipython3",
      "version": "3.12.8"
    }
  },
  "nbformat": 4,
  "nbformat_minor": 0
}